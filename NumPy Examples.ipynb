{
 "cells": [
  {
   "cell_type": "markdown",
   "metadata": {},
   "source": [
    "## NumPy Examples \n",
    "\n",
    "### Refer to the NumPy documentation at:\n",
    "\n",
    "1. NumPy User Guide: https://numpy.org/doc/stable/user/index.html\n",
    "2. NumPy API Guide: https://numpy.org/doc/stable/reference/index.html"
   ]
  },
  {
   "cell_type": "code",
   "execution_count": 1,
   "metadata": {},
   "outputs": [],
   "source": [
    "import numpy as np"
   ]
  },
  {
   "cell_type": "markdown",
   "metadata": {},
   "source": [
    "## Vectors, 1 Dimensional Arrays\n",
    "\n",
    "### Initialization\n",
    "\n",
    "#### Creating from a list"
   ]
  },
  {
   "cell_type": "code",
   "execution_count": 2,
   "metadata": {},
   "outputs": [
    {
     "data": {
      "text/plain": [
       "array([0. , 0.1, 0.2])"
      ]
     },
     "execution_count": 2,
     "metadata": {},
     "output_type": "execute_result"
    }
   ],
   "source": [
    "a = [0.0, 0.1, 0.2]\n",
    "\n",
    "x = np.array(a)\n",
    "x"
   ]
  },
  {
   "cell_type": "markdown",
   "metadata": {},
   "source": [
    "#### Arrays must be of a uniform type, NumPy will by default use what it can to make this happen"
   ]
  },
  {
   "cell_type": "code",
   "execution_count": 3,
   "metadata": {},
   "outputs": [
    {
     "data": {
      "text/plain": [
       "array(['0.0', '0.1', '0.2'], dtype='<U32')"
      ]
     },
     "execution_count": 3,
     "metadata": {},
     "output_type": "execute_result"
    }
   ],
   "source": [
    "a = [0.0,\"0.1\", 0.2]\n",
    "\n",
    "x = np.array(a)\n",
    "x"
   ]
  },
  {
   "cell_type": "markdown",
   "metadata": {},
   "source": [
    "#### The dtype flag can be used to force casting"
   ]
  },
  {
   "cell_type": "code",
   "execution_count": 4,
   "metadata": {},
   "outputs": [
    {
     "data": {
      "text/plain": [
       "array([0. , 0.1, 0.2])"
      ]
     },
     "execution_count": 4,
     "metadata": {},
     "output_type": "execute_result"
    }
   ],
   "source": [
    "x = np.array(a,dtype=np.float)\n",
    "x"
   ]
  },
  {
   "cell_type": "markdown",
   "metadata": {},
   "source": [
    "#### But will not always work"
   ]
  },
  {
   "cell_type": "code",
   "execution_count": 5,
   "metadata": {},
   "outputs": [
    {
     "ename": "ValueError",
     "evalue": "could not convert string to float: 'tim'",
     "output_type": "error",
     "traceback": [
      "\u001b[0;31m---------------------------------------------------------------------------\u001b[0m",
      "\u001b[0;31mValueError\u001b[0m                                Traceback (most recent call last)",
      "\u001b[0;32m<ipython-input-5-ddcbd511fd75>\u001b[0m in \u001b[0;36m<module>\u001b[0;34m\u001b[0m\n\u001b[1;32m      1\u001b[0m \u001b[0ma\u001b[0m \u001b[0;34m=\u001b[0m \u001b[0;34m[\u001b[0m\u001b[0;36m0.0\u001b[0m\u001b[0;34m,\u001b[0m\u001b[0;34m\"tim\"\u001b[0m\u001b[0;34m,\u001b[0m\u001b[0;36m0.2\u001b[0m\u001b[0;34m]\u001b[0m\u001b[0;34m\u001b[0m\u001b[0;34m\u001b[0m\u001b[0m\n\u001b[0;32m----> 2\u001b[0;31m \u001b[0mx\u001b[0m \u001b[0;34m=\u001b[0m \u001b[0mnp\u001b[0m\u001b[0;34m.\u001b[0m\u001b[0marray\u001b[0m\u001b[0;34m(\u001b[0m\u001b[0ma\u001b[0m\u001b[0;34m,\u001b[0m\u001b[0mdtype\u001b[0m\u001b[0;34m=\u001b[0m\u001b[0mnp\u001b[0m\u001b[0;34m.\u001b[0m\u001b[0mfloat\u001b[0m\u001b[0;34m)\u001b[0m\u001b[0;34m\u001b[0m\u001b[0;34m\u001b[0m\u001b[0m\n\u001b[0m",
      "\u001b[0;31mValueError\u001b[0m: could not convert string to float: 'tim'"
     ]
    }
   ],
   "source": [
    "a = [0.0,\"tim\",0.2]\n",
    "x = np.array(a,dtype=np.float)"
   ]
  },
  {
   "cell_type": "markdown",
   "metadata": {},
   "source": [
    "#### One can create arrays that are initially filled with zeros or ones"
   ]
  },
  {
   "cell_type": "code",
   "execution_count": 7,
   "metadata": {},
   "outputs": [
    {
     "data": {
      "text/plain": [
       "('x', array([1., 1., 1.]), 'y', array([0., 0., 0.]))"
      ]
     },
     "execution_count": 7,
     "metadata": {},
     "output_type": "execute_result"
    }
   ],
   "source": [
    "x = np.ones(3)\n",
    "y = np.zeros(3)\n",
    "\n",
    "\"x\",x,\"y\",y"
   ]
  },
  {
   "cell_type": "markdown",
   "metadata": {},
   "source": [
    "### Array Arithmetic\n",
    "\n",
    "#### You can do direct math on NumPy Arrays"
   ]
  },
  {
   "cell_type": "code",
   "execution_count": 8,
   "metadata": {},
   "outputs": [],
   "source": [
    "x = np.array([1.0, 2.0, 3.0])\n",
    "y = np.array([2.0, 3.0, 4.0])"
   ]
  },
  {
   "cell_type": "code",
   "execution_count": 9,
   "metadata": {},
   "outputs": [
    {
     "data": {
      "text/plain": [
       "array([3., 5., 7.])"
      ]
     },
     "execution_count": 9,
     "metadata": {},
     "output_type": "execute_result"
    }
   ],
   "source": [
    "x + y"
   ]
  },
  {
   "cell_type": "code",
   "execution_count": 10,
   "metadata": {},
   "outputs": [
    {
     "data": {
      "text/plain": [
       "array([-1., -1., -1.])"
      ]
     },
     "execution_count": 10,
     "metadata": {},
     "output_type": "execute_result"
    }
   ],
   "source": [
    "x - y"
   ]
  },
  {
   "cell_type": "code",
   "execution_count": 11,
   "metadata": {},
   "outputs": [
    {
     "data": {
      "text/plain": [
       "array([ 2.,  6., 12.])"
      ]
     },
     "execution_count": 11,
     "metadata": {},
     "output_type": "execute_result"
    }
   ],
   "source": [
    "x * y"
   ]
  },
  {
   "cell_type": "markdown",
   "metadata": {},
   "source": [
    "#### Arrays have to be the same size"
   ]
  },
  {
   "cell_type": "code",
   "execution_count": 12,
   "metadata": {},
   "outputs": [],
   "source": [
    "z = np.array([1.0,2.0])"
   ]
  },
  {
   "cell_type": "code",
   "execution_count": 13,
   "metadata": {},
   "outputs": [
    {
     "ename": "ValueError",
     "evalue": "operands could not be broadcast together with shapes (3,) (2,) ",
     "output_type": "error",
     "traceback": [
      "\u001b[0;31m---------------------------------------------------------------------------\u001b[0m",
      "\u001b[0;31mValueError\u001b[0m                                Traceback (most recent call last)",
      "\u001b[0;32m<ipython-input-13-67f19d914e73>\u001b[0m in \u001b[0;36m<module>\u001b[0;34m\u001b[0m\n\u001b[0;32m----> 1\u001b[0;31m \u001b[0mx\u001b[0m\u001b[0;34m+\u001b[0m\u001b[0mz\u001b[0m\u001b[0;34m\u001b[0m\u001b[0;34m\u001b[0m\u001b[0m\n\u001b[0m",
      "\u001b[0;31mValueError\u001b[0m: operands could not be broadcast together with shapes (3,) (2,) "
     ]
    }
   ],
   "source": [
    "x+z"
   ]
  },
  {
   "cell_type": "markdown",
   "metadata": {},
   "source": [
    "#### Can also do math operations with scalars"
   ]
  },
  {
   "cell_type": "code",
   "execution_count": 14,
   "metadata": {},
   "outputs": [
    {
     "data": {
      "text/plain": [
       "array([3., 6., 9.])"
      ]
     },
     "execution_count": 14,
     "metadata": {},
     "output_type": "execute_result"
    }
   ],
   "source": [
    "x = 3.0 * x\n",
    "x"
   ]
  },
  {
   "cell_type": "markdown",
   "metadata": {},
   "source": [
    "### Aggregate Functions\n",
    "\n",
    "##### There are number of functions that operate on the whole array"
   ]
  },
  {
   "cell_type": "code",
   "execution_count": 15,
   "metadata": {},
   "outputs": [
    {
     "name": "stdout",
     "output_type": "stream",
     "text": [
      "Max = 9.0 Min = 3.0 Sum = 18.0\n"
     ]
    }
   ],
   "source": [
    "a = x.max()\n",
    "b = x.min()\n",
    "c = x.sum()\n",
    "print(\"Max = {} Min = {} Sum = {}\".format(a,b,c))"
   ]
  },
  {
   "cell_type": "markdown",
   "metadata": {},
   "source": [
    "### Array Indexing\n",
    "\n",
    "#### Array indexing in NumPy is similar to that of Python Lists"
   ]
  },
  {
   "cell_type": "code",
   "execution_count": 16,
   "metadata": {},
   "outputs": [
    {
     "data": {
      "text/plain": [
       "('x',\n",
       " array([1., 2., 3., 4., 5., 6.]),\n",
       " 'a',\n",
       " 1.0,\n",
       " 'b',\n",
       " 4.0,\n",
       " 'c',\n",
       " array([1., 2., 3.]),\n",
       " 'd',\n",
       " array([3., 4., 5., 6.]))"
      ]
     },
     "execution_count": 16,
     "metadata": {},
     "output_type": "execute_result"
    }
   ],
   "source": [
    "x = np.array([1.0,2.0,3.0,4.0,5.0,6.0])\n",
    "a = x[0]\n",
    "b = x[3]\n",
    "c = x[0:3]\n",
    "d = x[2:]\n",
    "\n",
    "\"x\",x,\"a\",a,\"b\",b,\"c\",c,\"d\",d"
   ]
  },
  {
   "cell_type": "markdown",
   "metadata": {},
   "source": [
    "### Matrices (Multi-Dimensional Arrays)\n",
    "\n",
    "#### NumPy can also work with matrices, very similar to arrays"
   ]
  },
  {
   "cell_type": "code",
   "execution_count": 17,
   "metadata": {},
   "outputs": [
    {
     "data": {
      "text/plain": [
       "array([[1., 2., 3.],\n",
       "       [2., 3., 4.]])"
      ]
     },
     "execution_count": 17,
     "metadata": {},
     "output_type": "execute_result"
    }
   ],
   "source": [
    "x = np.array([[1.0,2.0,3.0],[2.0,3.0,4.0]])\n",
    "x"
   ]
  },
  {
   "cell_type": "markdown",
   "metadata": {},
   "source": [
    "#### Can also intialize with 1s, zeros, or with a random numbers"
   ]
  },
  {
   "cell_type": "code",
   "execution_count": 18,
   "metadata": {},
   "outputs": [
    {
     "data": {
      "text/plain": [
       "('x ',\n",
       " array([[1., 1.],\n",
       "        [1., 1.],\n",
       "        [1., 1.]]),\n",
       " 'y ',\n",
       " array([[0., 0., 0.],\n",
       "        [0., 0., 0.],\n",
       "        [0., 0., 0.],\n",
       "        [0., 0., 0.]]),\n",
       " 'z ',\n",
       " array([[0.36006544, 0.45900849],\n",
       "        [0.98523917, 0.9375695 ],\n",
       "        [0.9823637 , 0.17241349]]))"
      ]
     },
     "execution_count": 18,
     "metadata": {},
     "output_type": "execute_result"
    }
   ],
   "source": [
    "x = np.ones((3,2))\n",
    "y = np.zeros((4,3))\n",
    "z = np.random.random((3,2))\n",
    "\n",
    "\"x \",x, \"y \", y, \"z \", z"
   ]
  },
  {
   "cell_type": "markdown",
   "metadata": {},
   "source": [
    "### Matrix Arithemtic\n",
    "\n",
    "#### Similar to vectors, you can do arithmatic on matrices"
   ]
  },
  {
   "cell_type": "code",
   "execution_count": 19,
   "metadata": {},
   "outputs": [
    {
     "data": {
      "text/plain": [
       "('x ',\n",
       " array([[1., 2.],\n",
       "        [3., 4.]]),\n",
       " 'y ',\n",
       " array([[1., 1.],\n",
       "        [1., 1.]]),\n",
       " 'a ',\n",
       " array([[2., 3.],\n",
       "        [4., 5.]]),\n",
       " 'b ',\n",
       " array([[0., 1.],\n",
       "        [2., 3.]]),\n",
       " 'c ',\n",
       " array([[2., 4.],\n",
       "        [6., 8.]]))"
      ]
     },
     "execution_count": 19,
     "metadata": {},
     "output_type": "execute_result"
    }
   ],
   "source": [
    "x = np.array([[1.0,2.0],[3.0,4.0]])\n",
    "y = np.ones((2,2))\n",
    "\n",
    "a = x + y\n",
    "b = x - y\n",
    "c = 2.0 * x\n",
    "\n",
    "\"x \", x, \"y \", y, \"a \", a,\"b \", b,\"c \", c"
   ]
  },
  {
   "cell_type": "markdown",
   "metadata": {},
   "source": [
    "#### Matrices work different, where you may do arithmatic with the arrays not having the same dimensions"
   ]
  },
  {
   "cell_type": "code",
   "execution_count": 20,
   "metadata": {},
   "outputs": [
    {
     "data": {
      "text/plain": [
       "('x',\n",
       " array([[1., 2.],\n",
       "        [3., 4.]]),\n",
       " 'y',\n",
       " array([1., 2.]),\n",
       " 'a',\n",
       " array([[2., 4.],\n",
       "        [4., 6.]]))"
      ]
     },
     "execution_count": 20,
     "metadata": {},
     "output_type": "execute_result"
    }
   ],
   "source": [
    "x = np.array([[1.0,2.0],[3.0,4.0]])\n",
    "y = np.array([1.0,2.0])\n",
    "\n",
    "a = x + y\n",
    "\"x\", x, \"y\", y,\"a\",a"
   ]
  },
  {
   "cell_type": "markdown",
   "metadata": {},
   "source": [
    "### Matrix Multiplication\n",
    "\n",
    "#### NumPy hanlds Matrix / Matrix multiplication through special functions\n",
    "\n",
    "np.matmul provides a far more powerful set of options that correspond to using BLAS GEMM methods and is equivalent to the result of np.dot in 1-D and 2-D, they differ in higher dimensions\n",
    "\n",
    "For More on numpy.matmul see: https://numpy.org/doc/stable/reference/generated/numpy.matmul.html"
   ]
  },
  {
   "cell_type": "code",
   "execution_count": 21,
   "metadata": {},
   "outputs": [
    {
     "data": {
      "text/plain": [
       "('x',\n",
       " array([[1., 2.],\n",
       "        [3., 4.]]),\n",
       " 'y',\n",
       " array([[2., 3.],\n",
       "        [4., 5.]]),\n",
       " 'a (element wise multiply)',\n",
       " array([[ 2.,  6.],\n",
       "        [12., 20.]]),\n",
       " 'b (dot product)',\n",
       " array([[10., 13.],\n",
       "        [22., 29.]]),\n",
       " 'c (matmul function)',\n",
       " array([[10., 13.],\n",
       "        [22., 29.]]))"
      ]
     },
     "execution_count": 21,
     "metadata": {},
     "output_type": "execute_result"
    }
   ],
   "source": [
    "x = np.array([[1.0,2.0],[3.0,4.0]])\n",
    "y = np.array([[2.0,3.0],[4.0,5.0]])\n",
    "\n",
    "a = x*y\n",
    "b = x.dot(y)\n",
    "c = np.matmul(x,y)\n",
    "\n",
    "\"x\",x,\"y\",y,\"a (element wise multiply)\",a,\"b (dot product)\",b,\"c (matmul function)\",c"
   ]
  },
  {
   "cell_type": "markdown",
   "metadata": {},
   "source": [
    "### Matrix Aggregations\n",
    "\n",
    "#### When using aggregation functions, they become a little more powerful and complex\n",
    "\n",
    "#### One can operate on the whole matrix"
   ]
  },
  {
   "cell_type": "code",
   "execution_count": 22,
   "metadata": {},
   "outputs": [
    {
     "name": "stdout",
     "output_type": "stream",
     "text": [
      "X = \t[1. 2. 3.]\n",
      "\t[4. 5. 6.]\n",
      "Max = 6.0 Min = 1.0 Sum = 21.0\n"
     ]
    }
   ],
   "source": [
    "x = np.array([[1.0,2.0,3.0],[4.0,5.0,6.0]])\n",
    "\n",
    "a = x.max()\n",
    "b = x.min()\n",
    "c = x.sum()\n",
    "\n",
    "print(\"X = \\t{}\\n\\t{}\".format(x[0],x[1]))\n",
    "print(\"Max = {} Min = {} Sum = {}\".format(a,b,c))"
   ]
  },
  {
   "cell_type": "markdown",
   "metadata": {},
   "source": [
    "#### Aggregation Functions can also be performed by axis\n",
    "\n",
    "#### Aggregating along columns add axis=0"
   ]
  },
  {
   "cell_type": "code",
   "execution_count": 23,
   "metadata": {},
   "outputs": [
    {
     "name": "stdout",
     "output_type": "stream",
     "text": [
      "X = \t[1. 5. 3.]\n",
      "\t[4. 2. 6.]\n",
      "Max = [4. 5. 6.] Min = [1. 2. 3.] Sum = [5. 7. 9.]\n"
     ]
    }
   ],
   "source": [
    "x = np.array([[1.0,5.0,3.0],[4.0,2.0,6.0]])\n",
    "\n",
    "a = x.max(axis=0)\n",
    "b = x.min(axis=0)\n",
    "c = x.sum(axis=0)\n",
    "\n",
    "print(\"X = \\t{}\\n\\t{}\".format(x[0],x[1]))\n",
    "print(\"Max = {} Min = {} Sum = {}\".format(a,b,c))"
   ]
  },
  {
   "cell_type": "markdown",
   "metadata": {},
   "source": [
    "#### Aggregating along rows add axis=1"
   ]
  },
  {
   "cell_type": "code",
   "execution_count": 24,
   "metadata": {},
   "outputs": [
    {
     "name": "stdout",
     "output_type": "stream",
     "text": [
      "X = \t[1. 5. 3.]\n",
      "\t[4. 2. 6.]\n",
      "Max = [5. 6.] Min = [1. 2.] Sum = [ 9. 12.]\n"
     ]
    }
   ],
   "source": [
    "x = np.array([[1.0,5.0,3.0],[4.0,2.0,6.0]])\n",
    "\n",
    "a = x.max(axis=1)\n",
    "b = x.min(axis=1)\n",
    "c = x.sum(axis=1)\n",
    "\n",
    "print(\"X = \\t{}\\n\\t{}\".format(x[0],x[1]))\n",
    "print(\"Max = {} Min = {} Sum = {}\".format(a,b,c))"
   ]
  },
  {
   "cell_type": "markdown",
   "metadata": {},
   "source": [
    "### Matrix Indexing\n",
    "\n",
    "#### Matrices can be indexed pretty flexibly and straight forwardly"
   ]
  },
  {
   "cell_type": "code",
   "execution_count": 25,
   "metadata": {},
   "outputs": [
    {
     "name": "stdout",
     "output_type": "stream",
     "text": [
      "X = \t[1. 5. 3.]\n",
      "\t[4. 2. 6.]\n",
      "\t[7. 8. 9.]\n",
      "\n",
      "x[0,1] = 5.0\n",
      "\n",
      "x[1,2] = 6.0\n",
      "\n",
      "x[0:2,1] = [5. 2.]\n",
      "\n",
      "x[1,0:3] = [4. 2. 6.]\n",
      "\n",
      "x[1:3,0:2] = \t[4. 2.]\n",
      "\t\t[7. 8.]\n"
     ]
    }
   ],
   "source": [
    "x = np.array([[1.0,5.0,3.0],[4.0,2.0,6.0],[7.0,8.0,9.0]])\n",
    "\n",
    "a = x[0,1]\n",
    "b = x[1,2]\n",
    "c = x[0:2,1]\n",
    "d = x[1,0:3]\n",
    "e = x[1:3,0:2]\n",
    "\n",
    "print(\"X = \\t{}\\n\\t{}\\n\\t{}\".format(x[0],x[1],x[2]))\n",
    "print(\"\\nx[0,1] = {}\".format(a))\n",
    "print(\"\\nx[1,2] = {}\".format(b))\n",
    "print(\"\\nx[0:2,1] = {}\".format(c))\n",
    "print(\"\\nx[1,0:3] = {}\".format(d))\n",
    "print(\"\\nx[1:3,0:2] = \\t{}\\n\\t\\t{}\".format(e[0],e[1]))\n"
   ]
  },
  {
   "cell_type": "markdown",
   "metadata": {},
   "source": [
    "### Transposing and Reshaping\n",
    "\n",
    "#### Can perform Matrix Transposes by accessing the T member of the array"
   ]
  },
  {
   "cell_type": "code",
   "execution_count": 26,
   "metadata": {},
   "outputs": [
    {
     "name": "stdout",
     "output_type": "stream",
     "text": [
      "x = \t[1. 5. 3.]\n",
      "\t[4. 2. 6.]\n",
      "x_t = \t[1. 4.]\n",
      "\t[5. 2.]\n",
      "\t[3. 6.]\n"
     ]
    }
   ],
   "source": [
    "x = np.array([[1.0,5.0,3.0],[4.0,2.0,6.0]])\n",
    "\n",
    "a = x.T\n",
    "\n",
    "print(\"x = \\t{}\\n\\t{}\".format(x[0],x[1]))\n",
    "print(\"x_t = \\t{}\\n\\t{}\\n\\t{}\".format(a[0],a[1],a[2]))"
   ]
  },
  {
   "cell_type": "markdown",
   "metadata": {},
   "source": [
    "#### One can reshape any array using the reshape method"
   ]
  },
  {
   "cell_type": "code",
   "execution_count": 27,
   "metadata": {},
   "outputs": [
    {
     "name": "stdout",
     "output_type": "stream",
     "text": [
      "x = \t[1. 5. 3. 4. 2. 6.]\n",
      "a = \t[1. 5. 3.]\n",
      "\t[4. 2. 6.]\n",
      "b = \t[1. 5.]\n",
      "\t[3. 4.]\n",
      "\t[2. 6.]\n"
     ]
    }
   ],
   "source": [
    "x = np.array([[1.0,5.0,3.0, 4.0,2.0,6.0]])\n",
    "\n",
    "a = x.reshape((2,3))\n",
    "b = x.reshape((3,2))\n",
    "\n",
    "print(\"x = \\t{}\".format(x[0]))\n",
    "print(\"a = \\t{}\\n\\t{}\".format(a[0],a[1]))\n",
    "print(\"b = \\t{}\\n\\t{}\\n\\t{}\".format(b[0],b[1],b[2]))"
   ]
  },
  {
   "cell_type": "markdown",
   "metadata": {},
   "source": [
    "### Other Advanced Functions"
   ]
  },
  {
   "cell_type": "markdown",
   "metadata": {},
   "source": [
    "#### Boolean Masks\n",
    "\n",
    "Allows one to create a masking array"
   ]
  },
  {
   "cell_type": "code",
   "execution_count": 28,
   "metadata": {},
   "outputs": [
    {
     "name": "stdout",
     "output_type": "stream",
     "text": [
      "x = [13 10 14 10  5  8  6  7  7 20 16  7  1  9 10]\n",
      "mask = [False False False False False False False False False False False False\n",
      "  True False False]\n",
      "y = [1]\n"
     ]
    }
   ],
   "source": [
    "x = np.random.randint(0,21,15)\n",
    "\n",
    "mask = (x < 5)\n",
    "\n",
    "y = x[mask]\n",
    "\n",
    "print(\"x = {}\".format(x))\n",
    "print(\"mask = {}\".format(mask))\n",
    "print(\"y = {}\".format(y))"
   ]
  },
  {
   "cell_type": "markdown",
   "metadata": {},
   "source": [
    "#### Sorting"
   ]
  },
  {
   "cell_type": "code",
   "execution_count": 29,
   "metadata": {},
   "outputs": [
    {
     "name": "stdout",
     "output_type": "stream",
     "text": [
      "sorted = [ 1  5  6  7  7  7  8  9 10 10 10 13 14 16 20]\n"
     ]
    }
   ],
   "source": [
    "a = np.sort(x)\n",
    "print(\"sorted = {}\".format(a))"
   ]
  },
  {
   "cell_type": "code",
   "execution_count": 30,
   "metadata": {},
   "outputs": [
    {
     "name": "stdout",
     "output_type": "stream",
     "text": [
      "Sort rows = \t[1. 3. 5.]\n",
      "\t\t[2. 4. 6.]\n",
      "\n",
      "Sort cols = \t[1. 2. 3.]\n",
      "\t\t[4. 5. 6.]\n"
     ]
    }
   ],
   "source": [
    "x = np.array([[1.0,5.0,3.0],[4.0,2.0,6.0]])\n",
    "\n",
    "a = np.sort(x,axis=1)\n",
    "b = np.sort(x,axis=0)\n",
    "\n",
    "print(\"Sort rows = \\t{}\\n\\t\\t{}\".format(a[0],a[1]))\n",
    "print(\"\\nSort cols = \\t{}\\n\\t\\t{}\".format(b[0],b[1]))"
   ]
  },
  {
   "cell_type": "markdown",
   "metadata": {},
   "source": [
    "#### Casting\n",
    "\n",
    "Casting allows for you to change the types of elements that an array has"
   ]
  },
  {
   "cell_type": "code",
   "execution_count": 31,
   "metadata": {},
   "outputs": [
    {
     "name": "stdout",
     "output_type": "stream",
     "text": [
      "x = [1.  2.  3.  4.5 5.7]\n",
      "It has type float64\n",
      "a = [1 2 3 4 5]\n",
      "The array is now int64\n"
     ]
    }
   ],
   "source": [
    "x = np.array([1.0, 2.0, 3.0, 4.5,5.7])\n",
    "\n",
    "a = x.astype(int)\n",
    "\n",
    "print(\"x = {}\".format(x))\n",
    "print(\"It has type {}\".format(x.dtype))\n",
    "print(\"a = {}\".format(a))\n",
    "print(\"The array is now {}\".format(a.dtype))"
   ]
  },
  {
   "cell_type": "markdown",
   "metadata": {},
   "source": [
    "Rounding will not just drop the decimals"
   ]
  },
  {
   "cell_type": "code",
   "execution_count": 32,
   "metadata": {},
   "outputs": [
    {
     "name": "stdout",
     "output_type": "stream",
     "text": [
      "b = [1. 2. 3. 4. 6.]\n",
      "b is still type float64\n",
      "c = [1 2 3 4 6]\n",
      "c is now type int64\n"
     ]
    }
   ],
   "source": [
    "b = np.around(x)\n",
    "c = b.astype(\"int\")\n",
    "\n",
    "print(\"b = {}\".format(b))\n",
    "print(\"b is still type {}\".format(b.dtype))\n",
    "print(\"c = {}\".format(c))\n",
    "print(\"c is now type {}\".format(c.dtype))"
   ]
  },
  {
   "cell_type": "markdown",
   "metadata": {},
   "source": [
    "#### Vectorizing \n",
    "\n",
    "A super efficient way to operate a function over an array"
   ]
  },
  {
   "cell_type": "code",
   "execution_count": 33,
   "metadata": {},
   "outputs": [
    {
     "name": "stdout",
     "output_type": "stream",
     "text": [
      "x = [1. 2. 3.]\n",
      "a = [1. 4. 9.]\n",
      "b = [1.0000e+00 1.0240e+03 5.9049e+04]\n"
     ]
    }
   ],
   "source": [
    "def pow_value(x,k):\n",
    "    return x**k\n",
    "\n",
    "x = np.array([1.0,2.0,3.0])\n",
    "\n",
    "vfunc = np.vectorize(pow_value)\n",
    "\n",
    "a = vfunc(x,2.0)\n",
    "b = vfunc(x,10.0)\n",
    "\n",
    "print(\"x = {}\".format(x))\n",
    "print(\"a = {}\".format(a))\n",
    "print(\"b = {}\".format(b))"
   ]
  },
  {
   "cell_type": "markdown",
   "metadata": {},
   "source": [
    "Top operate over a 1-D slice using apply_along_axis"
   ]
  },
  {
   "cell_type": "code",
   "execution_count": 45,
   "metadata": {},
   "outputs": [
    {
     "name": "stdout",
     "output_type": "stream",
     "text": [
      "x = \t[0. 1. 2.]\n",
      "\t[3. 4. 5.]\n",
      "\t[6. 7. 8.]\n",
      "\n",
      "a = \t[ 9. 12. 15.]\n",
      "\n",
      "b = \t3.0\n",
      "\t12.0\n",
      "\t21.0\n",
      "\n",
      "c = \t[0. 1. 4.]\n",
      "\t[ 9. 16. 25.]\n",
      "\t[36. 49. 64.]\n"
     ]
    }
   ],
   "source": [
    "x = np.arange(9).astype(np.double).reshape(3,3)\n",
    "\n",
    "a = np.apply_along_axis(np.sum,0,x)\n",
    "b = np.apply_along_axis(np.sum,1,x)\n",
    "\n",
    "#### with another argument\n",
    "c = np.apply_along_axis(pow_value,0,x,2.0)\n",
    "\n",
    "print(\"x = \\t{}\\n\\t{}\\n\\t{}\".format(x[0],x[1],x[2]))\n",
    "print(\"\\na = \\t{}\".format(a))\n",
    "print(\"\\nb = \\t{}\\n\\t{}\\n\\t{}\".format(b[0],b[1],b[2]))\n",
    "print(\"\\nc = \\t{}\\n\\t{}\\n\\t{}\".format(c[0],c[1],c[2]))"
   ]
  },
  {
   "cell_type": "markdown",
   "metadata": {},
   "source": [
    "Operating over multiple axis can also be done with apply_over_axis"
   ]
  },
  {
   "cell_type": "code",
   "execution_count": 43,
   "metadata": {},
   "outputs": [
    {
     "name": "stdout",
     "output_type": "stream",
     "text": [
      "x = \t[0. 1. 2.]\n",
      "\t[3. 4. 5.]\n",
      "\t[6. 7. 8.]\n",
      "\n",
      "a = \t[[ 9. 12. 15.]]\n",
      "\n",
      "b = \t[3.]\n",
      "\t[12.]\n",
      "\t[21.]\n",
      "\n",
      "c = \t[[36.]]\n"
     ]
    }
   ],
   "source": [
    "x = np.arange(9).astype(np.double).reshape(3,3)\n",
    "\n",
    "a = np.apply_over_axes(np.sum, x,[0])\n",
    "b = np.apply_over_axes(np.sum, x, [1])\n",
    "c = np.apply_over_axes(np.sum, x, [0,1])\n",
    "\n",
    "print(\"x = \\t{}\\n\\t{}\\n\\t{}\".format(x[0],x[1],x[2]))\n",
    "print(\"\\na = \\t{}\".format(a))\n",
    "print(\"\\nb = \\t{}\\n\\t{}\\n\\t{}\".format(b[0],b[1],b[2]))\n",
    "print(\"\\nc = \\t{}\".format(c))"
   ]
  }
 ],
 "metadata": {
  "kernelspec": {
   "display_name": "Python 3",
   "language": "python",
   "name": "python3"
  },
  "language_info": {
   "codemirror_mode": {
    "name": "ipython",
    "version": 3
   },
   "file_extension": ".py",
   "mimetype": "text/x-python",
   "name": "python",
   "nbconvert_exporter": "python",
   "pygments_lexer": "ipython3",
   "version": "3.7.6"
  }
 },
 "nbformat": 4,
 "nbformat_minor": 4
}
